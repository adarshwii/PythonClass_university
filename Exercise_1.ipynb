{
 "cells": [
  {
   "cell_type": "code",
   "execution_count": null,
   "id": "42f40608-184f-47f2-9f1f-8d5a7a5e2213",
   "metadata": {},
   "outputs": [],
   "source": [
    "ice_cream_rating = 10\n",
    "Sleeping_rating = 5"
   ]
  },
  {
   "cell_type": "code",
   "execution_count": 2,
   "id": "8718b847-3a96-4968-9901-0b6adfecccd0",
   "metadata": {},
   "outputs": [],
   "source": [
    "First_name = \"Adarsh\"\n",
    "Last_name = \"Kulkarni\"\n"
   ]
  },
  {
   "cell_type": "code",
   "execution_count": 3,
   "id": "56f2985b-9080-4584-aab4-a73ed9e0b047",
   "metadata": {},
   "outputs": [],
   "source": [
    " happiness_rating  = (ice_cream_rating+Sleeping_rating)/2"
   ]
  },
  {
   "cell_type": "code",
   "execution_count": 5,
   "id": "ea82f48c-567a-49cb-a17c-d7e87c3f1b9c",
   "metadata": {},
   "outputs": [
    {
     "data": {
      "text/plain": [
       "(int, str, float)"
      ]
     },
     "execution_count": 5,
     "metadata": {},
     "output_type": "execute_result"
    }
   ],
   "source": [
    "type(ice_cream_rating), type(First_name), type ( happiness_rating)"
   ]
  },
  {
   "cell_type": "code",
   "execution_count": 11,
   "id": "80a3b5f1-5eab-4bf5-bde6-089424f81d63",
   "metadata": {},
   "outputs": [
    {
     "name": "stdout",
     "output_type": "stream",
     "text": [
      "my name is  Adarsh and I give eating ice cream score of 10 out of 10 \n",
      "my name is  Adarsh Kulkarni and my sleeping enjoyment score is 5 /10 \n",
      "Based on the factors above, my happiness rating is 7.5 out of 10, or 85.0 %!\n"
     ]
    }
   ],
   "source": [
    "print( \"my name is \", First_name, \"and I give eating ice cream score of\", ice_cream_rating, \"out of 10\",\n",
    "      \"\\nmy name is \", First_name,Last_name,  \"and my sleeping enjoyment score is\", Sleeping_rating, \"/10\",\n",
    "      \"\\nBased on the factors above, my happiness rating is\",happiness_rating, \"out of 10, or 85.0 %!\")\n",
    "\n",
    "      "
   ]
  },
  {
   "cell_type": "code",
   "execution_count": null,
   "id": "085c4c34-c902-4f39-abd7-7e221582dddc",
   "metadata": {},
   "outputs": [],
   "source": []
  }
 ],
 "metadata": {
  "kernelspec": {
   "display_name": "Python 3 (ipykernel)",
   "language": "python",
   "name": "python3"
  },
  "language_info": {
   "codemirror_mode": {
    "name": "ipython",
    "version": 3
   },
   "file_extension": ".py",
   "mimetype": "text/x-python",
   "name": "python",
   "nbconvert_exporter": "python",
   "pygments_lexer": "ipython3",
   "version": "3.11.7"
  }
 },
 "nbformat": 4,
 "nbformat_minor": 5
}
